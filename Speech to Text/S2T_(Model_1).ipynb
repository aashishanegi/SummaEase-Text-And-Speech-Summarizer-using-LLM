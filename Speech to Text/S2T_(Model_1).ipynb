{
  "nbformat": 4,
  "nbformat_minor": 0,
  "metadata": {
    "colab": {
      "provenance": []
    },
    "kernelspec": {
      "name": "python3",
      "display_name": "Python 3"
    },
    "language_info": {
      "name": "python"
    }
  },
  "cells": [
    {
      "cell_type": "code",
      "source": [
        "import logging\n",
        "import torch\n",
        "from transformers import Speech2TextProcessor, Speech2TextForConditionalGeneration\n",
        "import librosa\n",
        "\n",
        "\n",
        "logging.getLogger(\"transformers\").setLevel(logging.ERROR)\n",
        "\n",
        "\n",
        "model = Speech2TextForConditionalGeneration.from_pretrained(\"facebook/s2t-small-librispeech-asr\")\n",
        "processor = Speech2TextProcessor.from_pretrained(\"facebook/s2t-small-librispeech-asr\")\n",
        "\n",
        "\n",
        "audio_file_path = \"/content/Sound.wav\"\n",
        "audio_input, sampling_rate = librosa.load(audio_file_path, sr=16000)\n",
        "\n",
        "if len(audio_input.shape) > 1 and audio_input.shape[1] > 1:\n",
        "    audio_input = audio_input[:, 0]\n",
        "\n",
        "\n",
        "inputs = processor(audio_input, sampling_rate=16000, return_tensors=\"pt\")\n",
        "\n",
        "\n",
        "generated_ids = model.generate(inputs[\"input_features\"], attention_mask=inputs[\"attention_mask\"])\n",
        "transcription = processor.batch_decode(generated_ids, skip_special_tokens=True)\n",
        "\n",
        "print(transcription)\n"
      ],
      "metadata": {
        "colab": {
          "base_uri": "https://localhost:8080/"
        },
        "id": "VSAnlV7iThUV",
        "outputId": "e3ab41d9-b4bb-4093-e24e-e2cd30847ebc"
      },
      "execution_count": null,
      "outputs": [
        {
          "output_type": "stream",
          "name": "stdout",
          "text": [
            "['hullo my name is john']\n"
          ]
        }
      ]
    }
  ]
}